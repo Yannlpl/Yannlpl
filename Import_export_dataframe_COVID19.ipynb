{
  "cells": [
    {
      "cell_type": "markdown",
      "metadata": {
        "id": "view-in-github",
        "colab_type": "text"
      },
      "source": [
        "<a href=\"https://colab.research.google.com/github/Yannlpl/Yannlpl/blob/circleci-project-setup/Import_export_dataframe_COVID19.ipynb\" target=\"_parent\"><img src=\"https://colab.research.google.com/assets/colab-badge.svg\" alt=\"Open In Colab\"/></a>"
      ]
    },
    {
      "cell_type": "markdown",
      "id": "b1811fe6",
      "metadata": {
        "id": "b1811fe6"
      },
      "source": [
        "# Import and export data frame "
      ]
    },
    {
      "cell_type": "code",
      "execution_count": null,
      "id": "c4dc5170",
      "metadata": {
        "id": "c4dc5170"
      },
      "outputs": [],
      "source": [
        "import numpy as np\n",
        "import pandas as pd\n",
        "import matplotlib.pyplot as plt\n",
        "import seaborn as sns\n",
        "df = pd.read_csv(\"marketing_campaign.csv\", sep='\\t')"
      ]
    },
    {
      "cell_type": "code",
      "execution_count": null,
      "id": "0cbdef6e",
      "metadata": {
        "scrolled": true,
        "id": "0cbdef6e",
        "outputId": "eb81479c-78a0-4c59-87d3-34c3bb011cc1"
      },
      "outputs": [
        {
          "data": {
            "text/html": [
              "<div>\n",
              "<style scoped>\n",
              "    .dataframe tbody tr th:only-of-type {\n",
              "        vertical-align: middle;\n",
              "    }\n",
              "\n",
              "    .dataframe tbody tr th {\n",
              "        vertical-align: top;\n",
              "    }\n",
              "\n",
              "    .dataframe thead th {\n",
              "        text-align: right;\n",
              "    }\n",
              "</style>\n",
              "<table border=\"1\" class=\"dataframe\">\n",
              "  <thead>\n",
              "    <tr style=\"text-align: right;\">\n",
              "      <th></th>\n",
              "      <th>ID</th>\n",
              "      <th>Year_Birth</th>\n",
              "      <th>Education</th>\n",
              "      <th>Marital_Status</th>\n",
              "      <th>Income</th>\n",
              "      <th>Kidhome</th>\n",
              "      <th>Teenhome</th>\n",
              "      <th>Dt_Customer</th>\n",
              "      <th>Recency</th>\n",
              "      <th>MntWines</th>\n",
              "      <th>...</th>\n",
              "      <th>NumWebVisitsMonth</th>\n",
              "      <th>AcceptedCmp3</th>\n",
              "      <th>AcceptedCmp4</th>\n",
              "      <th>AcceptedCmp5</th>\n",
              "      <th>AcceptedCmp1</th>\n",
              "      <th>AcceptedCmp2</th>\n",
              "      <th>Complain</th>\n",
              "      <th>Z_CostContact</th>\n",
              "      <th>Z_Revenue</th>\n",
              "      <th>Response</th>\n",
              "    </tr>\n",
              "  </thead>\n",
              "  <tbody>\n",
              "    <tr>\n",
              "      <th>0</th>\n",
              "      <td>5524</td>\n",
              "      <td>1957</td>\n",
              "      <td>Graduation</td>\n",
              "      <td>Single</td>\n",
              "      <td>58138.0</td>\n",
              "      <td>0</td>\n",
              "      <td>0</td>\n",
              "      <td>04-09-2012</td>\n",
              "      <td>58</td>\n",
              "      <td>635</td>\n",
              "      <td>...</td>\n",
              "      <td>7</td>\n",
              "      <td>0</td>\n",
              "      <td>0</td>\n",
              "      <td>0</td>\n",
              "      <td>0</td>\n",
              "      <td>0</td>\n",
              "      <td>0</td>\n",
              "      <td>3</td>\n",
              "      <td>11</td>\n",
              "      <td>1</td>\n",
              "    </tr>\n",
              "    <tr>\n",
              "      <th>1</th>\n",
              "      <td>2174</td>\n",
              "      <td>1954</td>\n",
              "      <td>Graduation</td>\n",
              "      <td>Single</td>\n",
              "      <td>46344.0</td>\n",
              "      <td>1</td>\n",
              "      <td>1</td>\n",
              "      <td>08-03-2014</td>\n",
              "      <td>38</td>\n",
              "      <td>11</td>\n",
              "      <td>...</td>\n",
              "      <td>5</td>\n",
              "      <td>0</td>\n",
              "      <td>0</td>\n",
              "      <td>0</td>\n",
              "      <td>0</td>\n",
              "      <td>0</td>\n",
              "      <td>0</td>\n",
              "      <td>3</td>\n",
              "      <td>11</td>\n",
              "      <td>0</td>\n",
              "    </tr>\n",
              "    <tr>\n",
              "      <th>2</th>\n",
              "      <td>4141</td>\n",
              "      <td>1965</td>\n",
              "      <td>Graduation</td>\n",
              "      <td>Together</td>\n",
              "      <td>71613.0</td>\n",
              "      <td>0</td>\n",
              "      <td>0</td>\n",
              "      <td>21-08-2013</td>\n",
              "      <td>26</td>\n",
              "      <td>426</td>\n",
              "      <td>...</td>\n",
              "      <td>4</td>\n",
              "      <td>0</td>\n",
              "      <td>0</td>\n",
              "      <td>0</td>\n",
              "      <td>0</td>\n",
              "      <td>0</td>\n",
              "      <td>0</td>\n",
              "      <td>3</td>\n",
              "      <td>11</td>\n",
              "      <td>0</td>\n",
              "    </tr>\n",
              "    <tr>\n",
              "      <th>3</th>\n",
              "      <td>6182</td>\n",
              "      <td>1984</td>\n",
              "      <td>Graduation</td>\n",
              "      <td>Together</td>\n",
              "      <td>26646.0</td>\n",
              "      <td>1</td>\n",
              "      <td>0</td>\n",
              "      <td>10-02-2014</td>\n",
              "      <td>26</td>\n",
              "      <td>11</td>\n",
              "      <td>...</td>\n",
              "      <td>6</td>\n",
              "      <td>0</td>\n",
              "      <td>0</td>\n",
              "      <td>0</td>\n",
              "      <td>0</td>\n",
              "      <td>0</td>\n",
              "      <td>0</td>\n",
              "      <td>3</td>\n",
              "      <td>11</td>\n",
              "      <td>0</td>\n",
              "    </tr>\n",
              "    <tr>\n",
              "      <th>4</th>\n",
              "      <td>5324</td>\n",
              "      <td>1981</td>\n",
              "      <td>PhD</td>\n",
              "      <td>Married</td>\n",
              "      <td>58293.0</td>\n",
              "      <td>1</td>\n",
              "      <td>0</td>\n",
              "      <td>19-01-2014</td>\n",
              "      <td>94</td>\n",
              "      <td>173</td>\n",
              "      <td>...</td>\n",
              "      <td>5</td>\n",
              "      <td>0</td>\n",
              "      <td>0</td>\n",
              "      <td>0</td>\n",
              "      <td>0</td>\n",
              "      <td>0</td>\n",
              "      <td>0</td>\n",
              "      <td>3</td>\n",
              "      <td>11</td>\n",
              "      <td>0</td>\n",
              "    </tr>\n",
              "  </tbody>\n",
              "</table>\n",
              "<p>5 rows × 29 columns</p>\n",
              "</div>"
            ],
            "text/plain": [
              "     ID  Year_Birth   Education Marital_Status   Income  Kidhome  Teenhome  \\\n",
              "0  5524        1957  Graduation         Single  58138.0        0         0   \n",
              "1  2174        1954  Graduation         Single  46344.0        1         1   \n",
              "2  4141        1965  Graduation       Together  71613.0        0         0   \n",
              "3  6182        1984  Graduation       Together  26646.0        1         0   \n",
              "4  5324        1981         PhD        Married  58293.0        1         0   \n",
              "\n",
              "  Dt_Customer  Recency  MntWines  ...  NumWebVisitsMonth  AcceptedCmp3  \\\n",
              "0  04-09-2012       58       635  ...                  7             0   \n",
              "1  08-03-2014       38        11  ...                  5             0   \n",
              "2  21-08-2013       26       426  ...                  4             0   \n",
              "3  10-02-2014       26        11  ...                  6             0   \n",
              "4  19-01-2014       94       173  ...                  5             0   \n",
              "\n",
              "   AcceptedCmp4  AcceptedCmp5  AcceptedCmp1  AcceptedCmp2  Complain  \\\n",
              "0             0             0             0             0         0   \n",
              "1             0             0             0             0         0   \n",
              "2             0             0             0             0         0   \n",
              "3             0             0             0             0         0   \n",
              "4             0             0             0             0         0   \n",
              "\n",
              "   Z_CostContact  Z_Revenue  Response  \n",
              "0              3         11         1  \n",
              "1              3         11         0  \n",
              "2              3         11         0  \n",
              "3              3         11         0  \n",
              "4              3         11         0  \n",
              "\n",
              "[5 rows x 29 columns]"
            ]
          },
          "execution_count": 2,
          "metadata": {},
          "output_type": "execute_result"
        }
      ],
      "source": [
        "df.head()"
      ]
    },
    {
      "cell_type": "code",
      "execution_count": null,
      "id": "a51901e7",
      "metadata": {
        "id": "a51901e7",
        "outputId": "49c5cec7-5218-4ccc-a6bc-849f21b1ec06"
      },
      "outputs": [
        {
          "data": {
            "text/plain": [
              "Index(['ID', 'Year_Birth', 'Education', 'Marital_Status', 'Income', 'Kidhome',\n",
              "       'Teenhome', 'Dt_Customer', 'Recency', 'MntWines', 'MntFruits',\n",
              "       'MntMeatProducts', 'MntFishProducts', 'MntSweetProducts',\n",
              "       'MntGoldProds', 'NumDealsPurchases', 'NumWebPurchases',\n",
              "       'NumCatalogPurchases', 'NumStorePurchases', 'NumWebVisitsMonth',\n",
              "       'AcceptedCmp3', 'AcceptedCmp4', 'AcceptedCmp5', 'AcceptedCmp1',\n",
              "       'AcceptedCmp2', 'Complain', 'Z_CostContact', 'Z_Revenue', 'Response'],\n",
              "      dtype='object')"
            ]
          },
          "execution_count": 3,
          "metadata": {},
          "output_type": "execute_result"
        }
      ],
      "source": [
        "df.columns"
      ]
    },
    {
      "cell_type": "code",
      "execution_count": null,
      "id": "38521c32",
      "metadata": {
        "id": "38521c32",
        "outputId": "dc001376-4661-425f-92fb-24522cf9be89"
      },
      "outputs": [
        {
          "data": {
            "text/plain": [
              "(2240, 29)"
            ]
          },
          "execution_count": 4,
          "metadata": {},
          "output_type": "execute_result"
        }
      ],
      "source": [
        "df.shape"
      ]
    },
    {
      "cell_type": "markdown",
      "id": "ac5930c6",
      "metadata": {
        "id": "ac5930c6"
      },
      "source": [
        "# Data cleaning "
      ]
    },
    {
      "cell_type": "code",
      "execution_count": null,
      "id": "2162fb1f",
      "metadata": {
        "id": "2162fb1f",
        "outputId": "d1e27e6f-5b8f-4bad-c1c3-81199a5791f6"
      },
      "outputs": [
        {
          "data": {
            "text/plain": [
              "ID                      0\n",
              "Year_Birth              0\n",
              "Education               0\n",
              "Marital_Status          0\n",
              "Income                 24\n",
              "Kidhome                 0\n",
              "Teenhome                0\n",
              "Dt_Customer             0\n",
              "Recency                 0\n",
              "MntWines                0\n",
              "MntFruits               0\n",
              "MntMeatProducts         0\n",
              "MntFishProducts         0\n",
              "MntSweetProducts        0\n",
              "MntGoldProds            0\n",
              "NumDealsPurchases       0\n",
              "NumWebPurchases         0\n",
              "NumCatalogPurchases     0\n",
              "NumStorePurchases       0\n",
              "NumWebVisitsMonth       0\n",
              "AcceptedCmp3            0\n",
              "AcceptedCmp4            0\n",
              "AcceptedCmp5            0\n",
              "AcceptedCmp1            0\n",
              "AcceptedCmp2            0\n",
              "Complain                0\n",
              "Z_CostContact           0\n",
              "Z_Revenue               0\n",
              "Response                0\n",
              "dtype: int64"
            ]
          },
          "execution_count": 5,
          "metadata": {},
          "output_type": "execute_result"
        }
      ],
      "source": [
        "df.isnull().sum()"
      ]
    },
    {
      "cell_type": "code",
      "execution_count": null,
      "id": "ed1cbcc8",
      "metadata": {
        "id": "ed1cbcc8",
        "outputId": "bb6602a6-19cf-4e2f-c224-6f28d0d050b4"
      },
      "outputs": [
        {
          "data": {
            "text/plain": [
              "array(['Graduation', 'PhD', 'Master', 'Basic', '2n Cycle'], dtype=object)"
            ]
          },
          "execution_count": 6,
          "metadata": {},
          "output_type": "execute_result"
        }
      ],
      "source": [
        "edu = df['Education'].unique()\n",
        "edu"
      ]
    },
    {
      "cell_type": "code",
      "execution_count": null,
      "id": "705acb0f",
      "metadata": {
        "id": "705acb0f",
        "outputId": "6d6f2abc-c3f0-43ca-99ed-0eb74b6d8919"
      },
      "outputs": [
        {
          "data": {
            "text/plain": [
              "Income       24\n",
              "Education     0\n",
              "dtype: int64"
            ]
          },
          "execution_count": 7,
          "metadata": {},
          "output_type": "execute_result"
        }
      ],
      "source": [
        "pd.isnull(df[['Income', 'Education']]).apply(sum)"
      ]
    },
    {
      "cell_type": "code",
      "execution_count": null,
      "id": "dcbb5c46",
      "metadata": {
        "id": "dcbb5c46"
      },
      "outputs": [],
      "source": [
        "#replcae null by mean\n",
        "\n",
        "S = df.groupby('Education')['Income'].mean()\n",
        "\n",
        "for edu in S.index:\n",
        "    df.loc[pd.isnull(df['Income']), 'Income'] = S[edu]"
      ]
    },
    {
      "cell_type": "code",
      "execution_count": null,
      "id": "bd41865d",
      "metadata": {
        "id": "bd41865d",
        "outputId": "dd87b555-2ecc-4dd3-fe93-816170c34daa"
      },
      "outputs": [
        {
          "data": {
            "text/plain": [
              "Income       0\n",
              "Education    0\n",
              "dtype: int64"
            ]
          },
          "execution_count": 9,
          "metadata": {},
          "output_type": "execute_result"
        }
      ],
      "source": [
        "pd.isnull(df[['Income', 'Education']]).apply(sum)"
      ]
    },
    {
      "cell_type": "code",
      "execution_count": null,
      "id": "29fe07d7",
      "metadata": {
        "id": "29fe07d7",
        "outputId": "6c24c3cf-d9b8-48b5-b2a0-6fc554ddcdda"
      },
      "outputs": [
        {
          "name": "stdout",
          "output_type": "stream",
          "text": [
            "                  ID - int64\n",
            "          Year_Birth - int64\n",
            "           Education - object\n",
            "      Marital_Status - object\n",
            "              Income - float64\n",
            "             Kidhome - int64\n",
            "            Teenhome - int64\n",
            "         Dt_Customer - object\n",
            "             Recency - int64\n",
            "            MntWines - int64\n",
            "           MntFruits - int64\n",
            "     MntMeatProducts - int64\n",
            "     MntFishProducts - int64\n",
            "    MntSweetProducts - int64\n",
            "        MntGoldProds - int64\n",
            "   NumDealsPurchases - int64\n",
            "     NumWebPurchases - int64\n",
            " NumCatalogPurchases - int64\n",
            "   NumStorePurchases - int64\n",
            "   NumWebVisitsMonth - int64\n",
            "        AcceptedCmp3 - int64\n",
            "        AcceptedCmp4 - int64\n",
            "        AcceptedCmp5 - int64\n",
            "        AcceptedCmp1 - int64\n",
            "        AcceptedCmp2 - int64\n",
            "            Complain - int64\n",
            "       Z_CostContact - int64\n",
            "           Z_Revenue - int64\n",
            "            Response - int64\n"
          ]
        }
      ],
      "source": [
        "for k in df.columns:\n",
        "    print('%20s - %s' % (k, df[k].dtype))"
      ]
    },
    {
      "cell_type": "code",
      "execution_count": null,
      "id": "49940825",
      "metadata": {
        "id": "49940825"
      },
      "outputs": [],
      "source": [
        "from sklearn.preprocessing import LabelEncoder\n",
        "df_label = pd.DataFrame()\n",
        "\n",
        "for k in df.columns:\n",
        "    if df[k].dtype == object:\n",
        "        enc = LabelEncoder()\n",
        "        df_label[k] = enc.fit_transform(df[k])\n",
        "    else:\n",
        "        df_label[k] = df[k]"
      ]
    },
    {
      "cell_type": "code",
      "execution_count": null,
      "id": "8b3f69cc",
      "metadata": {
        "id": "8b3f69cc",
        "outputId": "ee7dc943-1603-4322-e34a-fc0c264e72e9"
      },
      "outputs": [
        {
          "data": {
            "text/html": [
              "<div>\n",
              "<style scoped>\n",
              "    .dataframe tbody tr th:only-of-type {\n",
              "        vertical-align: middle;\n",
              "    }\n",
              "\n",
              "    .dataframe tbody tr th {\n",
              "        vertical-align: top;\n",
              "    }\n",
              "\n",
              "    .dataframe thead th {\n",
              "        text-align: right;\n",
              "    }\n",
              "</style>\n",
              "<table border=\"1\" class=\"dataframe\">\n",
              "  <thead>\n",
              "    <tr style=\"text-align: right;\">\n",
              "      <th></th>\n",
              "      <th>ID</th>\n",
              "      <th>Year_Birth</th>\n",
              "      <th>Education</th>\n",
              "      <th>Marital_Status</th>\n",
              "      <th>Income</th>\n",
              "      <th>Kidhome</th>\n",
              "      <th>Teenhome</th>\n",
              "      <th>Dt_Customer</th>\n",
              "      <th>Recency</th>\n",
              "      <th>MntWines</th>\n",
              "      <th>...</th>\n",
              "      <th>NumWebVisitsMonth</th>\n",
              "      <th>AcceptedCmp3</th>\n",
              "      <th>AcceptedCmp4</th>\n",
              "      <th>AcceptedCmp5</th>\n",
              "      <th>AcceptedCmp1</th>\n",
              "      <th>AcceptedCmp2</th>\n",
              "      <th>Complain</th>\n",
              "      <th>Z_CostContact</th>\n",
              "      <th>Z_Revenue</th>\n",
              "      <th>Response</th>\n",
              "    </tr>\n",
              "  </thead>\n",
              "  <tbody>\n",
              "    <tr>\n",
              "      <th>0</th>\n",
              "      <td>5524</td>\n",
              "      <td>1957</td>\n",
              "      <td>2</td>\n",
              "      <td>4</td>\n",
              "      <td>58138.0</td>\n",
              "      <td>0</td>\n",
              "      <td>0</td>\n",
              "      <td>80</td>\n",
              "      <td>58</td>\n",
              "      <td>635</td>\n",
              "      <td>...</td>\n",
              "      <td>7</td>\n",
              "      <td>0</td>\n",
              "      <td>0</td>\n",
              "      <td>0</td>\n",
              "      <td>0</td>\n",
              "      <td>0</td>\n",
              "      <td>0</td>\n",
              "      <td>3</td>\n",
              "      <td>11</td>\n",
              "      <td>1</td>\n",
              "    </tr>\n",
              "    <tr>\n",
              "      <th>1</th>\n",
              "      <td>2174</td>\n",
              "      <td>1954</td>\n",
              "      <td>2</td>\n",
              "      <td>4</td>\n",
              "      <td>46344.0</td>\n",
              "      <td>1</td>\n",
              "      <td>1</td>\n",
              "      <td>157</td>\n",
              "      <td>38</td>\n",
              "      <td>11</td>\n",
              "      <td>...</td>\n",
              "      <td>5</td>\n",
              "      <td>0</td>\n",
              "      <td>0</td>\n",
              "      <td>0</td>\n",
              "      <td>0</td>\n",
              "      <td>0</td>\n",
              "      <td>0</td>\n",
              "      <td>3</td>\n",
              "      <td>11</td>\n",
              "      <td>0</td>\n",
              "    </tr>\n",
              "    <tr>\n",
              "      <th>2</th>\n",
              "      <td>4141</td>\n",
              "      <td>1965</td>\n",
              "      <td>2</td>\n",
              "      <td>5</td>\n",
              "      <td>71613.0</td>\n",
              "      <td>0</td>\n",
              "      <td>0</td>\n",
              "      <td>444</td>\n",
              "      <td>26</td>\n",
              "      <td>426</td>\n",
              "      <td>...</td>\n",
              "      <td>4</td>\n",
              "      <td>0</td>\n",
              "      <td>0</td>\n",
              "      <td>0</td>\n",
              "      <td>0</td>\n",
              "      <td>0</td>\n",
              "      <td>0</td>\n",
              "      <td>3</td>\n",
              "      <td>11</td>\n",
              "      <td>0</td>\n",
              "    </tr>\n",
              "    <tr>\n",
              "      <th>3</th>\n",
              "      <td>6182</td>\n",
              "      <td>1984</td>\n",
              "      <td>2</td>\n",
              "      <td>5</td>\n",
              "      <td>26646.0</td>\n",
              "      <td>1</td>\n",
              "      <td>0</td>\n",
              "      <td>199</td>\n",
              "      <td>26</td>\n",
              "      <td>11</td>\n",
              "      <td>...</td>\n",
              "      <td>6</td>\n",
              "      <td>0</td>\n",
              "      <td>0</td>\n",
              "      <td>0</td>\n",
              "      <td>0</td>\n",
              "      <td>0</td>\n",
              "      <td>0</td>\n",
              "      <td>3</td>\n",
              "      <td>11</td>\n",
              "      <td>0</td>\n",
              "    </tr>\n",
              "    <tr>\n",
              "      <th>4</th>\n",
              "      <td>5324</td>\n",
              "      <td>1981</td>\n",
              "      <td>4</td>\n",
              "      <td>3</td>\n",
              "      <td>58293.0</td>\n",
              "      <td>1</td>\n",
              "      <td>0</td>\n",
              "      <td>390</td>\n",
              "      <td>94</td>\n",
              "      <td>173</td>\n",
              "      <td>...</td>\n",
              "      <td>5</td>\n",
              "      <td>0</td>\n",
              "      <td>0</td>\n",
              "      <td>0</td>\n",
              "      <td>0</td>\n",
              "      <td>0</td>\n",
              "      <td>0</td>\n",
              "      <td>3</td>\n",
              "      <td>11</td>\n",
              "      <td>0</td>\n",
              "    </tr>\n",
              "  </tbody>\n",
              "</table>\n",
              "<p>5 rows × 29 columns</p>\n",
              "</div>"
            ],
            "text/plain": [
              "     ID  Year_Birth  Education  Marital_Status   Income  Kidhome  Teenhome  \\\n",
              "0  5524        1957          2               4  58138.0        0         0   \n",
              "1  2174        1954          2               4  46344.0        1         1   \n",
              "2  4141        1965          2               5  71613.0        0         0   \n",
              "3  6182        1984          2               5  26646.0        1         0   \n",
              "4  5324        1981          4               3  58293.0        1         0   \n",
              "\n",
              "   Dt_Customer  Recency  MntWines  ...  NumWebVisitsMonth  AcceptedCmp3  \\\n",
              "0           80       58       635  ...                  7             0   \n",
              "1          157       38        11  ...                  5             0   \n",
              "2          444       26       426  ...                  4             0   \n",
              "3          199       26        11  ...                  6             0   \n",
              "4          390       94       173  ...                  5             0   \n",
              "\n",
              "   AcceptedCmp4  AcceptedCmp5  AcceptedCmp1  AcceptedCmp2  Complain  \\\n",
              "0             0             0             0             0         0   \n",
              "1             0             0             0             0         0   \n",
              "2             0             0             0             0         0   \n",
              "3             0             0             0             0         0   \n",
              "4             0             0             0             0         0   \n",
              "\n",
              "   Z_CostContact  Z_Revenue  Response  \n",
              "0              3         11         1  \n",
              "1              3         11         0  \n",
              "2              3         11         0  \n",
              "3              3         11         0  \n",
              "4              3         11         0  \n",
              "\n",
              "[5 rows x 29 columns]"
            ]
          },
          "execution_count": 12,
          "metadata": {},
          "output_type": "execute_result"
        }
      ],
      "source": [
        "df_label.head()"
      ]
    },
    {
      "cell_type": "raw",
      "id": "59b6bdc3",
      "metadata": {
        "id": "59b6bdc3"
      },
      "source": [
        "#1 Basic\n",
        "#2 Graduation\n",
        "#3 Master\n",
        "#4 PhD\n",
        "#5 2n Cycle"
      ]
    },
    {
      "cell_type": "code",
      "execution_count": null,
      "id": "3fe57f6c",
      "metadata": {
        "id": "3fe57f6c"
      },
      "outputs": [],
      "source": [
        "#from google.colab import drive\n",
        "#drive.mount('/content/drive')"
      ]
    },
    {
      "cell_type": "markdown",
      "id": "a68c9d46",
      "metadata": {
        "id": "a68c9d46"
      },
      "source": [
        "# Classification and clustering Models"
      ]
    },
    {
      "cell_type": "markdown",
      "id": "ced38496",
      "metadata": {
        "id": "ced38496"
      },
      "source": [
        "unsupervised learning"
      ]
    },
    {
      "cell_type": "code",
      "execution_count": null,
      "id": "7b22f9a2",
      "metadata": {
        "id": "7b22f9a2"
      },
      "outputs": [],
      "source": [
        "import numpy as np\n",
        "import pandas as pd\n",
        "from sklearn.preprocessing import MinMaxScaler\n",
        "from sklearn.cluster import KMeans\n",
        "import matplotlib.pyplot as plt"
      ]
    },
    {
      "cell_type": "code",
      "execution_count": null,
      "id": "08fb3af8",
      "metadata": {
        "id": "08fb3af8",
        "outputId": "fa86b98e-bea3-4198-ec08-03630772a8e3"
      },
      "outputs": [
        {
          "data": {
            "text/plain": [
              "Index(['ID', 'Year_Birth', 'Education', 'Marital_Status', 'Income', 'Kidhome',\n",
              "       'Teenhome', 'Dt_Customer', 'Recency', 'MntWines', 'MntFruits',\n",
              "       'MntMeatProducts', 'MntFishProducts', 'MntSweetProducts',\n",
              "       'MntGoldProds', 'NumDealsPurchases', 'NumWebPurchases',\n",
              "       'NumCatalogPurchases', 'NumStorePurchases', 'NumWebVisitsMonth',\n",
              "       'AcceptedCmp3', 'AcceptedCmp4', 'AcceptedCmp5', 'AcceptedCmp1',\n",
              "       'AcceptedCmp2', 'Complain', 'Z_CostContact', 'Z_Revenue', 'Response'],\n",
              "      dtype='object')"
            ]
          },
          "execution_count": 16,
          "metadata": {},
          "output_type": "execute_result"
        }
      ],
      "source": [
        "df.columns"
      ]
    },
    {
      "cell_type": "markdown",
      "id": "36345f84",
      "metadata": {
        "id": "36345f84"
      },
      "source": [
        "Drawing the chart for the col which starts with \"Mnt\""
      ]
    },
    {
      "cell_type": "code",
      "execution_count": null,
      "id": "0071576a",
      "metadata": {
        "id": "0071576a",
        "outputId": "f873afe2-7934-41a1-e868-e637f4d1681d"
      },
      "outputs": [
        {
          "data": {
            "image/png": "[encoded data removed]",
            "text/plain": [
              "<Figure size 360x360 with 1 Axes>"
            ]
          },
          "metadata": {
            "needs_background": "light"
          },
          "output_type": "display_data"
        },
        {
          "data": {
            "image/png": "[encoded data removed]",
            "text/plain": [
              "<Figure size 360x360 with 1 Axes>"
            ]
          },
          "metadata": {
            "needs_background": "light"
          },
          "output_type": "display_data"
        },
        {
          "data": {
            "image/png": "[encoded data removed]",
            "text/plain": [
              "<Figure size 360x360 with 1 Axes>"
            ]
          },
          "metadata": {
            "needs_background": "light"
          },
          "output_type": "display_data"
        },
        {
          "data": {
            "image/png": "[encoded data removed]",
            "text/plain": [
              "<Figure size 360x360 with 1 Axes>"
            ]
          },
          "metadata": {
            "needs_background": "light"
          },
          "output_type": "display_data"
        },
        {
          "data": {
            "image/png": "[encoded data removed]",
            "text/plain": [
              "<Figure size 360x360 with 1 Axes>"
            ]
          },
          "metadata": {
            "needs_background": "light"
          },
          "output_type": "display_data"
        },
        {
          "data": {
            "image/png": "[encoded data removed]",
            "text/plain": [
              "<Figure size 360x360 with 1 Axes>"
            ]
          },
          "metadata": {
            "needs_background": "light"
          },
          "output_type": "display_data"
        }
      ],
      "source": [
        "col_clustering = []\n",
        "for x in df.columns:\n",
        "    if x[:3] == \"Mnt\":\n",
        "        col_clustering.append(x)\n",
        "        sns.displot(df[x])\n",
        "        plt.show()"
      ]
    },
    {
      "cell_type": "markdown",
      "id": "2f29fb06",
      "metadata": {
        "id": "2f29fb06"
      },
      "source": [
        "#you can see the distrubution of these colomns are similar"
      ]
    },
    {
      "cell_type": "code",
      "execution_count": null,
      "id": "e4da6b72",
      "metadata": {
        "id": "e4da6b72",
        "outputId": "aa520228-6d69-4975-b7c4-4f0075aedca4"
      },
      "outputs": [
        {
          "data": {
            "text/plain": [
              "['MntWines',\n",
              " 'MntFruits',\n",
              " 'MntMeatProducts',\n",
              " 'MntFishProducts',\n",
              " 'MntSweetProducts',\n",
              " 'MntGoldProds']"
            ]
          },
          "execution_count": 18,
          "metadata": {},
          "output_type": "execute_result"
        }
      ],
      "source": [
        "#the cols\n",
        "col_clustering"
      ]
    },
    {
      "cell_type": "code",
      "execution_count": null,
      "id": "a52c8614",
      "metadata": {
        "id": "a52c8614"
      },
      "outputs": [],
      "source": [
        "from sklearn.manifold import TSNE\n",
        "import time"
      ]
    },
    {
      "cell_type": "markdown",
      "id": "4178fc1d",
      "metadata": {
        "id": "4178fc1d"
      },
      "source": [
        "#Dimensionality reduction\n",
        "#Because in col_clustering there are 6 group(clusters),\n",
        "It's better for us to put them into 2 Dimension and show the chart of it."
      ]
    },
    {
      "cell_type": "code",
      "execution_count": null,
      "id": "0404f82d",
      "metadata": {
        "id": "0404f82d",
        "outputId": "8e4b9a98-28a2-46f0-a278-95511332affc"
      },
      "outputs": [
        {
          "name": "stdout",
          "output_type": "stream",
          "text": [
            "Time cost:    17.10 s\n"
          ]
        }
      ],
      "source": [
        "t0 = time.time()\n",
        "tsne = TSNE(n_components=2)\n",
        "df_tsne = tsne.fit_transform(df_label[col_clustering])\n",
        "print('Time cost: %8.2f s' % (time.time() - t0))"
      ]
    },
    {
      "cell_type": "code",
      "execution_count": null,
      "id": "b5506c76",
      "metadata": {
        "id": "b5506c76",
        "outputId": "a67e348b-d628-43c1-a0e4-e9b9b7e548d3"
      },
      "outputs": [
        {
          "data": {
            "text/plain": [
              "(2240, 2)"
            ]
          },
          "execution_count": 60,
          "metadata": {},
          "output_type": "execute_result"
        }
      ],
      "source": [
        "df_tsne.shape"
      ]
    },
    {
      "cell_type": "code",
      "execution_count": null,
      "id": "8c3f2350",
      "metadata": {
        "id": "8c3f2350"
      },
      "outputs": [],
      "source": [
        "#k=3\n",
        "kmeans = KMeans(n_clusters=3).fit(df_label[col_clustering])\n",
        "centroids = kmeans.cluster_centers_"
      ]
    },
    {
      "cell_type": "code",
      "execution_count": null,
      "id": "da6acd72",
      "metadata": {
        "id": "da6acd72",
        "outputId": "d2a80d8d-9934-4c03-9396-edd21f941a10"
      },
      "outputs": [
        {
          "data": {
            "text/plain": [
              "(2240,)"
            ]
          },
          "execution_count": 64,
          "metadata": {},
          "output_type": "execute_result"
        }
      ],
      "source": [
        "kmeans.labels_.shape"
      ]
    },
    {
      "cell_type": "code",
      "execution_count": null,
      "id": "35502bee",
      "metadata": {
        "id": "35502bee",
        "outputId": "a0f59071-be8d-4615-e29e-646ada124802"
      },
      "outputs": [
        {
          "data": {
            "image/png": "[encoded data removed]",
            "text/plain": [
              "<Figure size 720x432 with 1 Axes>"
            ]
          },
          "metadata": {
            "needs_background": "light"
          },
          "output_type": "display_data"
        }
      ],
      "source": [
        "plt.figure(figsize=(10, 6))\n",
        "plt.scatter(df_tsne[:,0], df_tsne[:,1], c= kmeans.labels_.astype(float), alpha=.5)\n",
        "#The center of each cluster-red point\n",
        "#plt.scatter(centroids[:, 0], centroids[:, 1], c='red')\n",
        "plt.grid(linestyle='--')\n",
        "plt.show()"
      ]
    },
    {
      "cell_type": "markdown",
      "id": "2d088f59",
      "metadata": {
        "id": "2d088f59"
      },
      "source": [
        "#To see how it will distribute if k=3"
      ]
    },
    {
      "cell_type": "markdown",
      "id": "9c212c42",
      "metadata": {
        "id": "9c212c42"
      },
      "source": [
        "# elbow method - find k value"
      ]
    },
    {
      "cell_type": "code",
      "execution_count": null,
      "id": "5f12ebd9",
      "metadata": {
        "id": "5f12ebd9"
      },
      "outputs": [],
      "source": [
        "distortions = []\n",
        "K = range(1,10)\n",
        "for k in K:\n",
        "    kmeanModel = KMeans(n_clusters=k)\n",
        "    kmeanModel.fit(df_label)\n",
        "    distortions.append(kmeanModel.inertia_)"
      ]
    },
    {
      "cell_type": "code",
      "execution_count": null,
      "id": "0bb7e583",
      "metadata": {
        "id": "0bb7e583",
        "outputId": "01012bdd-3068-4b63-92e5-b42f309dadef"
      },
      "outputs": [
        {
          "data": {
            "image/png": "[encoded data removed]",
            "text/plain": [
              "<Figure size 576x288 with 1 Axes>"
            ]
          },
          "metadata": {
            "needs_background": "light"
          },
          "output_type": "display_data"
        }
      ],
      "source": [
        "plt.figure(figsize=(8,4))\n",
        "plt.plot(K, distortions, 'bx-')\n",
        "plt.xlabel('k')\n",
        "plt.ylabel('Distortion')\n",
        "plt.title('The Elbow Method showing the optimal k')\n",
        "plt.show()"
      ]
    },
    {
      "cell_type": "markdown",
      "id": "2db65eb5",
      "metadata": {
        "id": "2db65eb5"
      },
      "source": [
        "#conclusion\n",
        "\n",
        "The concept is based on SSE (sum of the squared errors) as an indicator to calculate the distance from each point in each group to the center of the group.\n",
        "And the total groups is K.\n",
        "\n",
        "Creating the graph by K and SSE, we can observe which point is at the decline of SSE changes from \"rapidly to gentle\".\n",
        "This is the Inflection point, and we will select it as K.\n",
        "Because this point can ensure that K in the clusters is beneficial, it is suitable as a criterion for clustering."
      ]
    },
    {
      "cell_type": "markdown",
      "id": "47fe43d4",
      "metadata": {
        "id": "47fe43d4"
      },
      "source": [
        "# Silhouette Method showing the optimal k"
      ]
    },
    {
      "cell_type": "code",
      "execution_count": null,
      "id": "57339ef3",
      "metadata": {
        "id": "57339ef3",
        "outputId": "aa2942cc-65fc-436e-b115-cc8e9b2e5650"
      },
      "outputs": [
        {
          "data": {
            "image/png": "[encoded data removed]",
            "text/plain": [
              "<Figure size 432x288 with 1 Axes>"
            ]
          },
          "metadata": {
            "needs_background": "light"
          },
          "output_type": "display_data"
        },
        {
          "name": "stdout",
          "output_type": "stream",
          "text": [
            "2:0.5691284572170009\n",
            "3:0.5730398030573405\n",
            "4:0.4916041493000831\n",
            "5:0.458503478586195\n"
          ]
        }
      ],
      "source": [
        "from sklearn.metrics import silhouette_score\n",
        "sil = []\n",
        "for k in range(2, 6):\n",
        "    kmeans = KMeans(n_clusters = k).fit(df_label)\n",
        "    preds = kmeans.fit_predict(df_label)\n",
        "    sil.append(silhouette_score(df_label, preds, metric = 'euclidean'))\n",
        "plt.plot(range(2, 6), sil)\n",
        "plt.title('Silhouette Method')\n",
        "plt.xlabel('Number of clusters')\n",
        "plt.ylabel('Sil')\n",
        "plt.show()\n",
        "\n",
        "for i in range(len(sil)):\n",
        "    print(str(i+2) +\":\"+ str(sil[i]))"
      ]
    },
    {
      "cell_type": "code",
      "execution_count": null,
      "id": "895e6d63",
      "metadata": {
        "id": "895e6d63",
        "outputId": "ee92c492-a2cf-4cfe-f585-4d045a398840"
      },
      "outputs": [
        {
          "name": "stdout",
          "output_type": "stream",
          "text": [
            "The best sil: 0.5730398030573405\n"
          ]
        }
      ],
      "source": [
        "print(\"The best sil:\",max(sil))\n",
        "#As you can see the max sil value is when K=3"
      ]
    },
    {
      "cell_type": "markdown",
      "id": "89e1c6f6",
      "metadata": {
        "id": "89e1c6f6"
      },
      "source": [
        "# Conclusion:\n",
        "\n",
        "Using these two method to find the optimal k, the result is the same on when k=3."
      ]
    },
    {
      "cell_type": "code",
      "execution_count": null,
      "id": "b8b71904",
      "metadata": {
        "id": "b8b71904",
        "outputId": "bb02c98b-343b-4728-978d-5d6f3e89eeab"
      },
      "outputs": [
        {
          "data": {
            "text/html": [
              "<div>\n",
              "<style scoped>\n",
              "    .dataframe tbody tr th:only-of-type {\n",
              "        vertical-align: middle;\n",
              "    }\n",
              "\n",
              "    .dataframe tbody tr th {\n",
              "        vertical-align: top;\n",
              "    }\n",
              "\n",
              "    .dataframe thead th {\n",
              "        text-align: right;\n",
              "    }\n",
              "</style>\n",
              "<table border=\"1\" class=\"dataframe\">\n",
              "  <thead>\n",
              "    <tr style=\"text-align: right;\">\n",
              "      <th></th>\n",
              "      <th>ID</th>\n",
              "      <th>Year_Birth</th>\n",
              "      <th>Education</th>\n",
              "      <th>Marital_Status</th>\n",
              "      <th>Income</th>\n",
              "      <th>Kidhome</th>\n",
              "      <th>Teenhome</th>\n",
              "      <th>Dt_Customer</th>\n",
              "      <th>Recency</th>\n",
              "      <th>MntWines</th>\n",
              "      <th>...</th>\n",
              "      <th>NumWebVisitsMonth</th>\n",
              "      <th>AcceptedCmp3</th>\n",
              "      <th>AcceptedCmp4</th>\n",
              "      <th>AcceptedCmp5</th>\n",
              "      <th>AcceptedCmp1</th>\n",
              "      <th>AcceptedCmp2</th>\n",
              "      <th>Complain</th>\n",
              "      <th>Z_CostContact</th>\n",
              "      <th>Z_Revenue</th>\n",
              "      <th>Response</th>\n",
              "    </tr>\n",
              "  </thead>\n",
              "  <tbody>\n",
              "    <tr>\n",
              "      <th>0</th>\n",
              "      <td>5524</td>\n",
              "      <td>1957</td>\n",
              "      <td>2</td>\n",
              "      <td>4</td>\n",
              "      <td>58138.0</td>\n",
              "      <td>0</td>\n",
              "      <td>0</td>\n",
              "      <td>80</td>\n",
              "      <td>58</td>\n",
              "      <td>635</td>\n",
              "      <td>...</td>\n",
              "      <td>7</td>\n",
              "      <td>0</td>\n",
              "      <td>0</td>\n",
              "      <td>0</td>\n",
              "      <td>0</td>\n",
              "      <td>0</td>\n",
              "      <td>0</td>\n",
              "      <td>3</td>\n",
              "      <td>11</td>\n",
              "      <td>1</td>\n",
              "    </tr>\n",
              "    <tr>\n",
              "      <th>1</th>\n",
              "      <td>2174</td>\n",
              "      <td>1954</td>\n",
              "      <td>2</td>\n",
              "      <td>4</td>\n",
              "      <td>46344.0</td>\n",
              "      <td>1</td>\n",
              "      <td>1</td>\n",
              "      <td>157</td>\n",
              "      <td>38</td>\n",
              "      <td>11</td>\n",
              "      <td>...</td>\n",
              "      <td>5</td>\n",
              "      <td>0</td>\n",
              "      <td>0</td>\n",
              "      <td>0</td>\n",
              "      <td>0</td>\n",
              "      <td>0</td>\n",
              "      <td>0</td>\n",
              "      <td>3</td>\n",
              "      <td>11</td>\n",
              "      <td>0</td>\n",
              "    </tr>\n",
              "    <tr>\n",
              "      <th>2</th>\n",
              "      <td>4141</td>\n",
              "      <td>1965</td>\n",
              "      <td>2</td>\n",
              "      <td>5</td>\n",
              "      <td>71613.0</td>\n",
              "      <td>0</td>\n",
              "      <td>0</td>\n",
              "      <td>444</td>\n",
              "      <td>26</td>\n",
              "      <td>426</td>\n",
              "      <td>...</td>\n",
              "      <td>4</td>\n",
              "      <td>0</td>\n",
              "      <td>0</td>\n",
              "      <td>0</td>\n",
              "      <td>0</td>\n",
              "      <td>0</td>\n",
              "      <td>0</td>\n",
              "      <td>3</td>\n",
              "      <td>11</td>\n",
              "      <td>0</td>\n",
              "    </tr>\n",
              "    <tr>\n",
              "      <th>3</th>\n",
              "      <td>6182</td>\n",
              "      <td>1984</td>\n",
              "      <td>2</td>\n",
              "      <td>5</td>\n",
              "      <td>26646.0</td>\n",
              "      <td>1</td>\n",
              "      <td>0</td>\n",
              "      <td>199</td>\n",
              "      <td>26</td>\n",
              "      <td>11</td>\n",
              "      <td>...</td>\n",
              "      <td>6</td>\n",
              "      <td>0</td>\n",
              "      <td>0</td>\n",
              "      <td>0</td>\n",
              "      <td>0</td>\n",
              "      <td>0</td>\n",
              "      <td>0</td>\n",
              "      <td>3</td>\n",
              "      <td>11</td>\n",
              "      <td>0</td>\n",
              "    </tr>\n",
              "    <tr>\n",
              "      <th>4</th>\n",
              "      <td>5324</td>\n",
              "      <td>1981</td>\n",
              "      <td>4</td>\n",
              "      <td>3</td>\n",
              "      <td>58293.0</td>\n",
              "      <td>1</td>\n",
              "      <td>0</td>\n",
              "      <td>390</td>\n",
              "      <td>94</td>\n",
              "      <td>173</td>\n",
              "      <td>...</td>\n",
              "      <td>5</td>\n",
              "      <td>0</td>\n",
              "      <td>0</td>\n",
              "      <td>0</td>\n",
              "      <td>0</td>\n",
              "      <td>0</td>\n",
              "      <td>0</td>\n",
              "      <td>3</td>\n",
              "      <td>11</td>\n",
              "      <td>0</td>\n",
              "    </tr>\n",
              "  </tbody>\n",
              "</table>\n",
              "<p>5 rows × 29 columns</p>\n",
              "</div>"
            ],
            "text/plain": [
              "     ID  Year_Birth  Education  Marital_Status   Income  Kidhome  Teenhome  \\\n",
              "0  5524        1957          2               4  58138.0        0         0   \n",
              "1  2174        1954          2               4  46344.0        1         1   \n",
              "2  4141        1965          2               5  71613.0        0         0   \n",
              "3  6182        1984          2               5  26646.0        1         0   \n",
              "4  5324        1981          4               3  58293.0        1         0   \n",
              "\n",
              "   Dt_Customer  Recency  MntWines  ...  NumWebVisitsMonth  AcceptedCmp3  \\\n",
              "0           80       58       635  ...                  7             0   \n",
              "1          157       38        11  ...                  5             0   \n",
              "2          444       26       426  ...                  4             0   \n",
              "3          199       26        11  ...                  6             0   \n",
              "4          390       94       173  ...                  5             0   \n",
              "\n",
              "   AcceptedCmp4  AcceptedCmp5  AcceptedCmp1  AcceptedCmp2  Complain  \\\n",
              "0             0             0             0             0         0   \n",
              "1             0             0             0             0         0   \n",
              "2             0             0             0             0         0   \n",
              "3             0             0             0             0         0   \n",
              "4             0             0             0             0         0   \n",
              "\n",
              "   Z_CostContact  Z_Revenue  Response  \n",
              "0              3         11         1  \n",
              "1              3         11         0  \n",
              "2              3         11         0  \n",
              "3              3         11         0  \n",
              "4              3         11         0  \n",
              "\n",
              "[5 rows x 29 columns]"
            ]
          },
          "execution_count": 56,
          "metadata": {},
          "output_type": "execute_result"
        }
      ],
      "source": [
        "df_label.head()"
      ]
    },
    {
      "cell_type": "code",
      "execution_count": null,
      "id": "c4e4ac3d",
      "metadata": {
        "id": "c4e4ac3d"
      },
      "outputs": [],
      "source": [
        "df_label['cluster'] = kmeans.labels_.astype(float)"
      ]
    },
    {
      "cell_type": "code",
      "execution_count": null,
      "id": "6b99e156",
      "metadata": {
        "id": "6b99e156",
        "outputId": "49aa90e6-8299-4df9-c198-6d16105af9c4"
      },
      "outputs": [
        {
          "data": {
            "text/plain": [
              "Index(['ID', 'Year_Birth', 'Education', 'Marital_Status', 'Income', 'Kidhome',\n",
              "       'Teenhome', 'Dt_Customer', 'Recency', 'MntWines', 'MntFruits',\n",
              "       'MntMeatProducts', 'MntFishProducts', 'MntSweetProducts',\n",
              "       'MntGoldProds', 'NumDealsPurchases', 'NumWebPurchases',\n",
              "       'NumCatalogPurchases', 'NumStorePurchases', 'NumWebVisitsMonth',\n",
              "       'AcceptedCmp3', 'AcceptedCmp4', 'AcceptedCmp5', 'AcceptedCmp1',\n",
              "       'AcceptedCmp2', 'Complain', 'Z_CostContact', 'Z_Revenue', 'Response',\n",
              "       'cluster'],\n",
              "      dtype='object')"
            ]
          },
          "execution_count": 68,
          "metadata": {},
          "output_type": "execute_result"
        }
      ],
      "source": [
        "df_label.columns"
      ]
    },
    {
      "cell_type": "markdown",
      "id": "560f5ec2",
      "metadata": {
        "id": "560f5ec2"
      },
      "source": [
        "# As follows we can see:\n",
        "    for amount in every product(wine/Fruits/MeatProducts/FishProducts/SweetProducts/GoldProds) is divided into 3 groups,\n",
        "        1)Wine: group1 buy the most and gruop0 consume the least.\n",
        "        2)Fruits:group0 buy the least , and the group 1 and 2 are nearly the same.\n",
        "        3)MeatProducts:group0 buy the least , and the group 1 and 2 are nearly the same.\n",
        "        4)FishProducts:group0 buy the least , and the group 1 and 2 are nearly the same.\n",
        "        5)SweetProducts:group0 buy the least , and the group 1 and 2 are nearly the same.\n",
        "        6)GoldProds:group0 buy the least, and the group 1 and 2 are nearly the same."
      ]
    },
    {
      "cell_type": "code",
      "execution_count": null,
      "id": "ad72da17",
      "metadata": {
        "id": "ad72da17",
        "outputId": "2698de86-36fc-44b4-aab3-bcdcb12a07e9"
      },
      "outputs": [
        {
          "data": {
            "image/png": "[encoded data removed]",
            "text/plain": [
              "<Figure size 432x288 with 1 Axes>"
            ]
          },
          "metadata": {
            "needs_background": "light"
          },
          "output_type": "display_data"
        },
        {
          "data": {
            "image/png": "[encoded data removed]",
            "text/plain": [
              "<Figure size 432x288 with 1 Axes>"
            ]
          },
          "metadata": {
            "needs_background": "light"
          },
          "output_type": "display_data"
        },
        {
          "data": {
            "image/png": "[encoded data removed]",
            "text/plain": [
              "<Figure size 432x288 with 1 Axes>"
            ]
          },
          "metadata": {
            "needs_background": "light"
          },
          "output_type": "display_data"
        },
        {
          "data": {
            "image/png": "[encoded data removed]",
            "text/plain": [
              "<Figure size 432x288 with 1 Axes>"
            ]
          },
          "metadata": {
            "needs_background": "light"
          },
          "output_type": "display_data"
        },
        {
          "data": {
            "image/png": "[encoded data removed]",
            "text/plain": [
              "<Figure size 432x288 with 1 Axes>"
            ]
          },
          "metadata": {
            "needs_background": "light"
          },
          "output_type": "display_data"
        },
        {
          "data": {
            "image/png": "[encoded data removed]",
            "text/plain": [
              "<Figure size 432x288 with 1 Axes>"
            ]
          },
          "metadata": {
            "needs_background": "light"
          },
          "output_type": "display_data"
        }
      ],
      "source": [
        "for i in range(6):\n",
        "    sns.boxplot(x='cluster', y=col_clustering[i], data=df_label)\n",
        "    plt.show()"
      ]
    },
    {
      "cell_type": "markdown",
      "id": "8a4afebf",
      "metadata": {
        "id": "8a4afebf"
      },
      "source": [
        "# Finding the data just contain 0 or 1:\n",
        "And we found 7 columns:AcceptedCmp 1 to 5 & Complain & Response\n",
        "We see the dataframe:\n"
      ]
    },
    {
      "cell_type": "code",
      "execution_count": null,
      "id": "8aa38a5b",
      "metadata": {
        "id": "8aa38a5b"
      },
      "outputs": [],
      "source": [
        "col_bi = []\n",
        "for k in df_label.columns:\n",
        "    if len(df_label[k].unique()) == 2:\n",
        "        col_bi.append(k)"
      ]
    },
    {
      "cell_type": "code",
      "execution_count": null,
      "id": "08c69697",
      "metadata": {
        "id": "08c69697",
        "outputId": "c4ac77a4-0322-4e81-c5ee-20b2c9646b08"
      },
      "outputs": [
        {
          "data": {
            "text/html": [
              "<div>\n",
              "<style scoped>\n",
              "    .dataframe tbody tr th:only-of-type {\n",
              "        vertical-align: middle;\n",
              "    }\n",
              "\n",
              "    .dataframe tbody tr th {\n",
              "        vertical-align: top;\n",
              "    }\n",
              "\n",
              "    .dataframe thead th {\n",
              "        text-align: right;\n",
              "    }\n",
              "</style>\n",
              "<table border=\"1\" class=\"dataframe\">\n",
              "  <thead>\n",
              "    <tr style=\"text-align: right;\">\n",
              "      <th></th>\n",
              "      <th>AcceptedCmp3</th>\n",
              "      <th>AcceptedCmp4</th>\n",
              "      <th>AcceptedCmp5</th>\n",
              "      <th>AcceptedCmp1</th>\n",
              "      <th>AcceptedCmp2</th>\n",
              "      <th>Complain</th>\n",
              "      <th>Response</th>\n",
              "    </tr>\n",
              "    <tr>\n",
              "      <th>cluster</th>\n",
              "      <th></th>\n",
              "      <th></th>\n",
              "      <th></th>\n",
              "      <th></th>\n",
              "      <th></th>\n",
              "      <th></th>\n",
              "      <th></th>\n",
              "    </tr>\n",
              "  </thead>\n",
              "  <tbody>\n",
              "    <tr>\n",
              "      <th>0.0</th>\n",
              "      <td>0.067494</td>\n",
              "      <td>0.019395</td>\n",
              "      <td>0.002327</td>\n",
              "      <td>0.003879</td>\n",
              "      <td>0.003103</td>\n",
              "      <td>0.011637</td>\n",
              "      <td>0.098526</td>\n",
              "    </tr>\n",
              "    <tr>\n",
              "      <th>1.0</th>\n",
              "      <td>0.104615</td>\n",
              "      <td>0.280000</td>\n",
              "      <td>0.356923</td>\n",
              "      <td>0.252308</td>\n",
              "      <td>0.064615</td>\n",
              "      <td>0.000000</td>\n",
              "      <td>0.369231</td>\n",
              "    </tr>\n",
              "    <tr>\n",
              "      <th>2.0</th>\n",
              "      <td>0.067093</td>\n",
              "      <td>0.081470</td>\n",
              "      <td>0.070288</td>\n",
              "      <td>0.091054</td>\n",
              "      <td>0.007987</td>\n",
              "      <td>0.009585</td>\n",
              "      <td>0.138978</td>\n",
              "    </tr>\n",
              "  </tbody>\n",
              "</table>\n",
              "</div>"
            ],
            "text/plain": [
              "         AcceptedCmp3  AcceptedCmp4  AcceptedCmp5  AcceptedCmp1  AcceptedCmp2  \\\n",
              "cluster                                                                         \n",
              "0.0          0.067494      0.019395      0.002327      0.003879      0.003103   \n",
              "1.0          0.104615      0.280000      0.356923      0.252308      0.064615   \n",
              "2.0          0.067093      0.081470      0.070288      0.091054      0.007987   \n",
              "\n",
              "         Complain  Response  \n",
              "cluster                      \n",
              "0.0      0.011637  0.098526  \n",
              "1.0      0.000000  0.369231  \n",
              "2.0      0.009585  0.138978  "
            ]
          },
          "execution_count": 109,
          "metadata": {},
          "output_type": "execute_result"
        }
      ],
      "source": [
        "df_label[col_bi + ['cluster']].groupby('cluster').mean()"
      ]
    },
    {
      "cell_type": "markdown",
      "id": "5498ac2d",
      "metadata": {
        "id": "5498ac2d"
      },
      "source": [
        "# Cluster income:\n",
        "For income under 200000(ignore the max:666666)\n",
        "we can observe that: In group 0, they earn less money than group 1 and 2."
      ]
    },
    {
      "cell_type": "code",
      "execution_count": null,
      "id": "89214da8",
      "metadata": {
        "id": "89214da8",
        "outputId": "904977b2-7caf-4cf6-e3e3-40a1524d5f12"
      },
      "outputs": [
        {
          "data": {
            "text/plain": [
              "666666.0"
            ]
          },
          "execution_count": 123,
          "metadata": {},
          "output_type": "execute_result"
        }
      ],
      "source": [
        "df_label['Income'].max()"
      ]
    },
    {
      "cell_type": "code",
      "execution_count": null,
      "id": "76b1acd5",
      "metadata": {
        "id": "76b1acd5",
        "outputId": "6382b7b3-275e-41a2-d610-e53bfb02300e"
      },
      "outputs": [
        {
          "data": {
            "text/plain": [
              "(0.0, 200000.0)"
            ]
          },
          "execution_count": 98,
          "metadata": {},
          "output_type": "execute_result"
        },
        {
          "data": {
            "image/png": "[encoded data removed]",
            "text/plain": [
              "<Figure size 432x288 with 1 Axes>"
            ]
          },
          "metadata": {
            "needs_background": "light"
          },
          "output_type": "display_data"
        }
      ],
      "source": [
        "sns.boxplot(x='cluster', y='Income', data=df_label)\n",
        "plt.ylim(0, 200000)"
      ]
    },
    {
      "cell_type": "markdown",
      "id": "54762ae3",
      "metadata": {
        "id": "54762ae3"
      },
      "source": [
        "# For how many child in a family:\n",
        "In group 0, they have more children in their family."
      ]
    },
    {
      "cell_type": "code",
      "execution_count": null,
      "id": "6e35b13e",
      "metadata": {
        "id": "6e35b13e",
        "outputId": "3bc24e6a-657a-4f19-d506-f38f8511b04c"
      },
      "outputs": [
        {
          "data": {
            "text/plain": [
              "count    2240.000000\n",
              "mean        0.444196\n",
              "std         0.538398\n",
              "min         0.000000\n",
              "25%         0.000000\n",
              "50%         0.000000\n",
              "75%         1.000000\n",
              "max         2.000000\n",
              "Name: Kidhome, dtype: float64"
            ]
          },
          "execution_count": 105,
          "metadata": {},
          "output_type": "execute_result"
        }
      ],
      "source": [
        "df_label['Kidhome'].describe()"
      ]
    },
    {
      "cell_type": "code",
      "execution_count": null,
      "id": "1ce1eb7c",
      "metadata": {
        "id": "1ce1eb7c",
        "outputId": "8fa64ce9-44b7-415c-de45-f4f32201dd87"
      },
      "outputs": [
        {
          "data": {
            "text/plain": [
              "0       0\n",
              "1       1\n",
              "2       0\n",
              "3       1\n",
              "4       1\n",
              "       ..\n",
              "2235    0\n",
              "2236    2\n",
              "2237    0\n",
              "2238    0\n",
              "2239    1\n",
              "Name: Kidhome, Length: 2240, dtype: int64"
            ]
          },
          "execution_count": 140,
          "metadata": {},
          "output_type": "execute_result"
        }
      ],
      "source": [
        "df_label['Kidhome']"
      ]
    },
    {
      "cell_type": "code",
      "execution_count": null,
      "id": "414a465f",
      "metadata": {
        "id": "414a465f",
        "outputId": "d66954b6-693d-402b-b18c-9052f4eaf0a1"
      },
      "outputs": [
        {
          "data": {
            "text/plain": [
              "<AxesSubplot:xlabel='cluster', ylabel='mean_kid'>"
            ]
          },
          "execution_count": 139,
          "metadata": {},
          "output_type": "execute_result"
        },
        {
          "data": {
            "image/png": "[encoded data removed]",
            "text/plain": [
              "<Figure size 432x288 with 1 Axes>"
            ]
          },
          "metadata": {
            "needs_background": "light"
          },
          "output_type": "display_data"
        }
      ],
      "source": [
        "df_label['mean_kid']= df_label['Kidhome']\n",
        "sns.barplot(x='cluster', y='mean_kid',data=df_label)"
      ]
    },
    {
      "cell_type": "markdown",
      "id": "abe759f1",
      "metadata": {
        "id": "abe759f1"
      },
      "source": [
        "# Simple Linear Regression"
      ]
    },
    {
      "cell_type": "code",
      "execution_count": null,
      "id": "8f536233",
      "metadata": {
        "id": "8f536233"
      },
      "outputs": [],
      "source": [
        "import numpy as np\n",
        "import matplotlib.pyplot as plt  # To visualize\n",
        "import pandas as pd  # To read data\n",
        "from sklearn.linear_model import LinearRegression"
      ]
    },
    {
      "cell_type": "code",
      "execution_count": null,
      "id": "9c61df63",
      "metadata": {
        "id": "9c61df63",
        "outputId": "b6272750-4227-41b6-cc14-48d1b7348afd"
      },
      "outputs": [
        {
          "data": {
            "image/png": "[encoded data removed]",
            "text/plain": [
              "<Figure size 432x288 with 1 Axes>"
            ]
          },
          "metadata": {
            "needs_background": "light"
          },
          "output_type": "display_data"
        }
      ],
      "source": [
        "#Use Year_birth calculate Age\n",
        "df[\"Age\"]=2010 - df[\"Year_Birth\"]\n",
        "x = df[\"Age\"]\n",
        "y = df[\"Income\"]\n",
        "\n",
        "plt.plot(x)\n",
        "plt.plot(y)\n",
        "plt.show()"
      ]
    },
    {
      "cell_type": "code",
      "execution_count": null,
      "id": "e07fc26b",
      "metadata": {
        "id": "e07fc26b"
      },
      "outputs": [],
      "source": [
        "X = df[\"Age\"].values.reshape(-1, 1)  # values converts it into a numpy array\n",
        "Y = df[\"Income\"].values.reshape(-1, 1)  # -1 means that calculate the dimension of rows, but have 1 column\n",
        "linear_regressor = LinearRegression()  # create object for the class\n",
        "linear_regressor.fit(X, Y)  # perform linear regression\n",
        "Y_pred = linear_regressor.predict(X) # make predictions"
      ]
    },
    {
      "cell_type": "code",
      "execution_count": null,
      "id": "4e4b0ff8",
      "metadata": {
        "id": "4e4b0ff8",
        "outputId": "1bc04687-2d28-4f0b-b461-e2a632cf2544"
      },
      "outputs": [
        {
          "data": {
            "image/png": "[encoded data removed]",
            "text/plain": [
              "<Figure size 432x288 with 1 Axes>"
            ]
          },
          "metadata": {
            "needs_background": "light"
          },
          "output_type": "display_data"
        }
      ],
      "source": [
        "plt.scatter(X, Y)\n",
        "plt.plot(X, Y_pred, color='red')\n",
        "plt.show()"
      ]
    },
    {
      "cell_type": "code",
      "execution_count": null,
      "id": "e6e68a46",
      "metadata": {
        "id": "e6e68a46",
        "outputId": "2de2436f-46db-4178-d4c9-223c7f2252eb"
      },
      "outputs": [
        {
          "name": "stdout",
          "output_type": "stream",
          "text": [
            "                            OLS Regression Results                            \n",
            "==============================================================================\n",
            "Dep. Variable:                      y   R-squared:                       0.026\n",
            "Model:                            OLS   Adj. R-squared:                  0.025\n",
            "Method:                 Least Squares   F-statistic:                     59.32\n",
            "Date:                Tue, 14 Dec 2021   Prob (F-statistic):           2.00e-14\n",
            "Time:                        01:51:12   Log-Likelihood:                -25836.\n",
            "No. Observations:                2240   AIC:                         5.168e+04\n",
            "Df Residuals:                    2238   BIC:                         5.169e+04\n",
            "Df Model:                           1                                         \n",
            "Covariance Type:            nonrobust                                         \n",
            "==============================================================================\n",
            "                 coef    std err          t      P>|t|      [0.025      0.975]\n",
            "------------------------------------------------------------------------------\n",
            "const       3.837e+04   1870.376     20.512      0.000    3.47e+04     4.2e+04\n",
            "x1           335.7849     43.597      7.702      0.000     250.290     421.280\n",
            "==============================================================================\n",
            "Omnibus:                     3085.883   Durbin-Watson:                   2.007\n",
            "Prob(Omnibus):                  0.000   Jarque-Bera (JB):          2808774.477\n",
            "Skew:                           7.239   Prob(JB):                         0.00\n",
            "Kurtosis:                     175.871   Cond. No.                         154.\n",
            "==============================================================================\n",
            "\n",
            "Notes:\n",
            "[1] Standard Errors assume that the covariance matrix of the errors is correctly specified.\n"
          ]
        }
      ],
      "source": [
        "import statsmodels.api as sm\n",
        "X = sm.add_constant(X) # adding a constant\n",
        "model = sm.OLS(Y, X).fit()\n",
        "predictions = model.predict(X) \n",
        "print_model = model.summary()\n",
        "print(print_model)"
      ]
    },
    {
      "cell_type": "code",
      "execution_count": null,
      "id": "3032ec01",
      "metadata": {
        "id": "3032ec01",
        "outputId": "6a5c9fa8-c0f5-402b-cc86-ece5dc1ed6e8"
      },
      "outputs": [
        {
          "data": {
            "text/plain": [
              "'\\nIn this chart we can see:\\nThe p value is close to zero\\nit can be interpreted as a regression relationship between the variables Age and Income at the significance level of 0.05, which is significant\\nand \\n1. the intercept is 38370\\n2. the slope is 335.7849\\n'"
            ]
          },
          "execution_count": 53,
          "metadata": {},
          "output_type": "execute_result"
        }
      ],
      "source": [
        "'''\n",
        "In this chart we can see:\n",
        "The p value is close to zero\n",
        "it can be interpreted as a regression relationship between the variables Age and Income at the significance level of 0.05, which is significant\n",
        "and \n",
        "1. the intercept is 38370\n",
        "2. the slope is 335.7849\n",
        "'''"
      ]
    },
    {
      "cell_type": "code",
      "execution_count": null,
      "id": "903666fb",
      "metadata": {
        "id": "903666fb"
      },
      "outputs": [],
      "source": [
        "df_regression = df[df['Income']<600000]"
      ]
    },
    {
      "cell_type": "code",
      "execution_count": null,
      "id": "78271b36",
      "metadata": {
        "id": "78271b36"
      },
      "outputs": [],
      "source": [
        "X = df_regression[\"Age\"].values.reshape(-1, 1)  # values converts it into a numpy array\n",
        "Y = df_regression[\"Income\"].values.reshape(-1, 1)  # -1 means that calculate the dimension of rows, but have 1 column\n",
        "linear_regressor = LinearRegression()  # create object for the class\n",
        "linear_regressor.fit(X, Y)  # perform linear regression\n",
        "Y_pred = linear_regressor.predict(X) # make predictions"
      ]
    },
    {
      "cell_type": "code",
      "execution_count": null,
      "id": "0c47fdcf",
      "metadata": {
        "id": "0c47fdcf",
        "outputId": "57677179-5070-4347-aecc-38e4425c098d"
      },
      "outputs": [
        {
          "data": {
            "image/png": "[encoded data removed]",
            "text/plain": [
              "<Figure size 432x288 with 1 Axes>"
            ]
          },
          "metadata": {
            "needs_background": "light"
          },
          "output_type": "display_data"
        }
      ],
      "source": [
        "plt.scatter(X, Y)\n",
        "plt.plot(X, Y_pred, color='red')\n",
        "plt.show()"
      ]
    },
    {
      "cell_type": "code",
      "execution_count": null,
      "id": "4a831be8",
      "metadata": {
        "id": "4a831be8",
        "outputId": "c02d9c76-6ecc-4f36-9675-a9a1cce913d3"
      },
      "outputs": [
        {
          "name": "stdout",
          "output_type": "stream",
          "text": [
            "                            OLS Regression Results                            \n",
            "==============================================================================\n",
            "Dep. Variable:                      y   R-squared:                       0.039\n",
            "Model:                            OLS   Adj. R-squared:                  0.038\n",
            "Method:                 Least Squares   F-statistic:                     90.07\n",
            "Date:                Tue, 14 Dec 2021   Prob (F-statistic):           5.67e-21\n",
            "Time:                        01:51:12   Log-Likelihood:                -25459.\n",
            "No. Observations:                2239   AIC:                         5.092e+04\n",
            "Df Residuals:                    2237   BIC:                         5.093e+04\n",
            "Df Model:                           1                                         \n",
            "Covariance Type:            nonrobust                                         \n",
            "==============================================================================\n",
            "                 coef    std err          t      P>|t|      [0.025      0.975]\n",
            "------------------------------------------------------------------------------\n",
            "const       3.744e+04   1589.175     23.560      0.000    3.43e+04    4.06e+04\n",
            "x1           351.5236     37.039      9.491      0.000     278.889     424.158\n",
            "==============================================================================\n",
            "Omnibus:                      138.049   Durbin-Watson:                   1.965\n",
            "Prob(Omnibus):                  0.000   Jarque-Bera (JB):              211.376\n",
            "Skew:                           0.506   Prob(JB):                     1.26e-46\n",
            "Kurtosis:                       4.114   Cond. No.                         154.\n",
            "==============================================================================\n",
            "\n",
            "Notes:\n",
            "[1] Standard Errors assume that the covariance matrix of the errors is correctly specified.\n"
          ]
        }
      ],
      "source": [
        "# import statsmodels.api as sm\n",
        "X = sm.add_constant(X) # adding a constant\n",
        "model = sm.OLS(Y, X).fit()\n",
        "predictions = model.predict(X) \n",
        "print_model = model.summary()\n",
        "print(print_model)"
      ]
    },
    {
      "cell_type": "code",
      "execution_count": null,
      "id": "c700519c",
      "metadata": {
        "id": "c700519c",
        "outputId": "4999a349-3a6a-4387-a2ed-1c96e918b6f7"
      },
      "outputs": [
        {
          "data": {
            "text/plain": [
              "'\\nAfter deleting the extreme value:\\n1. the intercept is 37590\\n2. the slope is 348.744\\n\\nthe std err is less then before, it means the model is better after removing the extreme value\\n'"
            ]
          },
          "execution_count": 58,
          "metadata": {},
          "output_type": "execute_result"
        }
      ],
      "source": [
        "'''\n",
        "After deleting the extreme value:\n",
        "1. the intercept is 37590\n",
        "2. the slope is 348.744\n",
        "\n",
        "the std err is less then before, it means the model is better after removing the extreme value\n",
        "'''"
      ]
    },
    {
      "cell_type": "markdown",
      "id": "2a8d7404",
      "metadata": {
        "id": "2a8d7404"
      },
      "source": [
        "# Logistic Regression"
      ]
    },
    {
      "cell_type": "code",
      "execution_count": null,
      "id": "e2b57794",
      "metadata": {
        "id": "e2b57794",
        "outputId": "660dc8db-4d3e-4de1-c800-e460b63b6390"
      },
      "outputs": [
        {
          "data": {
            "text/plain": [
              "'\\nLogis regression mainly explores the relationship between the dependent variable and the independent variable.\\nThe dependent variable (Y) in linear regression is usually a continuous variable, \\nbut the dependent variable (Y) discussed in Logis regression is mainly categorical variables, \\nespecially variables that are divided into two categories (for example: yes or no, yes or no , Agree or disagree...... etc.).\\n'"
            ]
          },
          "execution_count": 59,
          "metadata": {},
          "output_type": "execute_result"
        }
      ],
      "source": [
        "'''\n",
        "Logistic regression mainly explores the relationship between the dependent variable and the independent variable.\n",
        "The dependent variable (Y) in linear regression is usually a continuous variable, \n",
        "but the dependent variable (Y) discussed in Logistic regression is mainly categorical variables, \n",
        "especially variables that are divided into two categories "
      ]
    },
    {
      "cell_type": "code",
      "execution_count": null,
      "id": "768ce28d",
      "metadata": {
        "id": "768ce28d"
      },
      "outputs": [],
      "source": [
        "# Logistic Regression to predict which customers may answer to a campain (response = 1)"
      ]
    },
    {
      "cell_type": "code",
      "execution_count": null,
      "id": "ab483ba8",
      "metadata": {
        "id": "ab483ba8"
      },
      "outputs": [],
      "source": [
        "from sklearn.model_selection import train_test_split\n",
        "from sklearn.linear_model import LogisticRegression\n",
        "from sklearn import metrics\n",
        "import seaborn as sn\n",
        "\n",
        "X = df[['Income', 'Kidhome', 'Teenhome', 'Recency', 'MntWines', 'MntFruits',\n",
        "       'MntMeatProducts', 'MntFishProducts', 'MntSweetProducts', 'MntGoldProds', 'NumDealsPurchases', \n",
        "       'NumWebPurchases', 'NumCatalogPurchases', 'NumStorePurchases', 'NumWebVisitsMonth']]\n",
        "y = df['Response']\n",
        "\n",
        "X_train, X_test, y_train,y_test = train_test_split(X, y, test_size=0.25, random_state=0, stratify=y)"
      ]
    },
    {
      "cell_type": "code",
      "execution_count": null,
      "id": "eceea149",
      "metadata": {
        "id": "eceea149"
      },
      "outputs": [],
      "source": [
        "logistic_model = LogisticRegression(random_state=0, max_iter=1000)\n",
        "#max_iter:Maximum number of iterations taken for the solvers to converge.\n",
        "logistic_model.fit(X_train, y_train)\n",
        "y_pred = logistic_model.predict(X_test)"
      ]
    },
    {
      "cell_type": "code",
      "execution_count": null,
      "id": "48facce1",
      "metadata": {
        "id": "48facce1",
        "outputId": "e7fc2362-ab82-41bf-d15c-b4a6e511f7c9"
      },
      "outputs": [
        {
          "name": "stdout",
          "output_type": "stream",
          "text": [
            "Accuracy:  0.8589285714285714\n",
            "Precision:  0.5714285714285714\n",
            "Recall:  0.1927710843373494\n"
          ]
        }
      ],
      "source": [
        "print('Accuracy: ',metrics.accuracy_score(y_test, y_pred)) # number of good predictions / total population, thus 465 / 550\n",
        "print('Precision: ',metrics.precision_score(y_test, y_pred)) # number of true positives / total positives, thus 16 / 28\n",
        "print('Recall: ',metrics.recall_score(y_test, y_pred))#number of true positives / total true positives + false negatives,thus 16/83\n"
      ]
    },
    {
      "cell_type": "code",
      "execution_count": null,
      "id": "95989f17",
      "metadata": {
        "id": "95989f17",
        "outputId": "821c88b5-4745-4992-b767-29bfb5f26c4d"
      },
      "outputs": [
        {
          "data": {
            "text/plain": [
              "<AxesSubplot:xlabel='Predicted', ylabel='Actual'>"
            ]
          },
          "execution_count": 64,
          "metadata": {},
          "output_type": "execute_result"
        },
        {
          "data": {
            "image/png": "[encoded data removed]",
            "text/plain": [
              "<Figure size 432x288 with 2 Axes>"
            ]
          },
          "metadata": {
            "needs_background": "light"
          },
          "output_type": "display_data"
        }
      ],
      "source": [
        "confusion_matrix = pd.crosstab(y_test, y_pred, rownames=['Actual'], colnames=['Predicted'])\n",
        "sn.heatmap(confusion_matrix, annot=True, fmt=\"d\", linewidths=.5, cmap=\"YlOrRd\")"
      ]
    },
    {
      "cell_type": "code",
      "execution_count": null,
      "id": "2c5281fa",
      "metadata": {
        "id": "2c5281fa"
      },
      "outputs": [],
      "source": [
        "'''\n",
        "We can see that, even if accurary is good (0.85), precision is lower (only 0.57) and recall is very bad (0.19).\n",
        "The regression can find only 19% of customers really positive.\n",
        "However, 57% of customer predicted as positives are true positives, so the campain efficiency will be rather good.\n",
        "'''"
      ]
    },
    {
      "cell_type": "code",
      "execution_count": null,
      "id": "63915f5c",
      "metadata": {
        "id": "63915f5c"
      },
      "outputs": [],
      "source": [
        ""
      ]
    },
    {
      "cell_type": "code",
      "execution_count": null,
      "id": "14661d7b",
      "metadata": {
        "id": "14661d7b"
      },
      "outputs": [],
      "source": [
        ""
      ]
    },
    {
      "cell_type": "code",
      "execution_count": null,
      "id": "98efeaa2",
      "metadata": {
        "id": "98efeaa2"
      },
      "outputs": [],
      "source": [
        ""
      ]
    }
  ],
  "metadata": {
    "kernelspec": {
      "display_name": "Python 3",
      "language": "python",
      "name": "python3"
    },
    "language_info": {
      "codemirror_mode": {
        "name": "ipython",
        "version": 3
      },
      "file_extension": ".py",
      "mimetype": "text/x-python",
      "name": "python",
      "nbconvert_exporter": "python",
      "pygments_lexer": "ipython3",
      "version": "3.8.8"
    },
    "colab": {
      "name": "Programming_Group 1_Marketing_Campaign.ipynb",
      "provenance": [],
      "include_colab_link": true
    }
  },
  "nbformat": 4,
  "nbformat_minor": 5
}